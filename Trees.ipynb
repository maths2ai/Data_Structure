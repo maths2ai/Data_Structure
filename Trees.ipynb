{
 "cells": [
  {
   "cell_type": "markdown",
   "metadata": {},
   "source": [
    "## Building a binary tree"
   ]
  },
  {
   "cell_type": "code",
   "execution_count": 1,
   "metadata": {},
   "outputs": [],
   "source": [
    "class Node(object):\n",
    "    def __init__(self, value = None):\n",
    "        self.value = value\n",
    "        self.left = None\n",
    "        self.right = None\n",
    "        \n",
    "    def set_value (self, value):\n",
    "        self.value = value\n",
    "    \n",
    "    def get_value (self):\n",
    "        return self.value\n",
    "    \n",
    "    def set_left(self, node):\n",
    "        self.left = node\n",
    "    \n",
    "    def set_right(self, node):\n",
    "        self.right = node\n",
    "        \n",
    "    def get_left(self):\n",
    "        return self.left\n",
    "    \n",
    "    def get_right(self):\n",
    "        return self.right\n",
    "    \n",
    "    def has_left(self):\n",
    "        return self.left != None\n",
    "    \n",
    "    def has_right(self):\n",
    "        return self.right != None\n",
    "    \n",
    "class Binary_Tree(object):\n",
    "    def __init__(self, root):\n",
    "        self.root = root\n",
    "        \n",
    "    def get_root(self):\n",
    "        return self.root"
   ]
  },
  {
   "cell_type": "markdown",
   "metadata": {},
   "source": [
    "## DFS \n",
    "\n",
    "Pre-Order Traversal with stack"
   ]
  },
  {
   "cell_type": "code",
   "execution_count": 2,
   "metadata": {},
   "outputs": [
    {
     "name": "stdout",
     "output_type": "stream",
     "text": [
      "[1]\n"
     ]
    }
   ],
   "source": [
    "a= []\n",
    "a.append(1)\n",
    "a.append(2)\n",
    "a.pop()\n",
    "print(a)"
   ]
  },
  {
   "cell_type": "code",
   "execution_count": 3,
   "metadata": {},
   "outputs": [],
   "source": [
    "def DFS_pre(root_n):\n",
    "    root = root_n.get_root()\n",
    "    stack = []\n",
    "    stack.append(root)\n",
    "    \n",
    "    while len(stack)!= 0:\n",
    "        node = stack.pop()\n",
    "        print('Checked ', node.get_value())\n",
    "        \n",
    "        if node.has_right():\n",
    "            stack.append(node.right)\n",
    "        if node.has_left():\n",
    "            stack.append(node.left)\n",
    "    return"
   ]
  },
  {
   "cell_type": "code",
   "execution_count": 4,
   "metadata": {},
   "outputs": [],
   "source": [
    "node_a = Node('A')\n",
    "node_b = Node('B')\n",
    "node_c = Node('C')\n",
    "node_d = Node('D')\n",
    "node_e = Node('E')\n",
    "node_f = Node('F')\n",
    "node_g = Node('G')\n",
    "\n",
    "node_a.set_left(node_b)\n",
    "node_a.set_right(node_c)\n",
    "node_c.set_left(node_d)\n",
    "node_c.set_right(node_e)\n",
    "node_d.set_left(node_f)\n",
    "node_e.set_right(node_g)\n",
    "\n",
    "bt = Binary_Tree(node_a)"
   ]
  },
  {
   "cell_type": "code",
   "execution_count": 5,
   "metadata": {},
   "outputs": [
    {
     "name": "stdout",
     "output_type": "stream",
     "text": [
      "Checked  A\n",
      "Checked  B\n",
      "Checked  C\n",
      "Checked  D\n",
      "Checked  F\n",
      "Checked  E\n",
      "Checked  G\n"
     ]
    }
   ],
   "source": [
    "DFS_pre(bt)"
   ]
  },
  {
   "cell_type": "markdown",
   "metadata": {},
   "source": [
    "## DFS Recursive\n",
    "\n",
    "pre order traversal with recursion"
   ]
  },
  {
   "cell_type": "code",
   "execution_count": 6,
   "metadata": {},
   "outputs": [],
   "source": [
    "def DFS_pre_rec(node):\n",
    "    print('Checked ', node.get_value)\n",
    "    \n",
    "    if node.has_left:\n",
    "        DFS_pre_rec(node)\n",
    "    if node.has_right:\n",
    "        DFS_pre_rec(node)\n",
    "    \n",
    "    return"
   ]
  },
  {
   "cell_type": "code",
   "execution_count": 7,
   "metadata": {},
   "outputs": [
    {
     "name": "stdout",
     "output_type": "stream",
     "text": [
      "Checked  A\n",
      "Checked  B\n",
      "Checked  C\n",
      "Checked  D\n",
      "Checked  F\n",
      "Checked  E\n",
      "Checked  G\n"
     ]
    }
   ],
   "source": [
    "DFS_pre(bt)"
   ]
  },
  {
   "cell_type": "markdown",
   "metadata": {},
   "source": [
    "## BFS\n",
    "\n",
    "BFS. The fuction returns the value when found, otherwise it returns not found"
   ]
  },
  {
   "cell_type": "code",
   "execution_count": 8,
   "metadata": {},
   "outputs": [],
   "source": [
    "def bfs_with_queue(bt):\n",
    "    root = bt.get_root()\n",
    "    queue = []\n",
    "    queue.append(root)\n",
    "    \n",
    "    while len(queue) != 0:\n",
    "        node = queue.pop(0)\n",
    "        print('Checked ', node.get_value())\n",
    "        \n",
    "        if node.has_left():\n",
    "            queue.append(node.get_left())\n",
    "        if node.has_right():\n",
    "            queue.append(node.get_right())\n",
    "    \n",
    "    return"
   ]
  },
  {
   "cell_type": "code",
   "execution_count": 9,
   "metadata": {},
   "outputs": [
    {
     "name": "stdout",
     "output_type": "stream",
     "text": [
      "Checked  A\n",
      "Checked  B\n",
      "Checked  C\n",
      "Checked  D\n",
      "Checked  E\n",
      "Checked  F\n",
      "Checked  G\n"
     ]
    }
   ],
   "source": [
    "bfs_with_queue(bt)"
   ]
  },
  {
   "cell_type": "markdown",
   "metadata": {},
   "source": [
    "## Binary Tree"
   ]
  },
  {
   "cell_type": "code",
   "execution_count": 10,
   "metadata": {},
   "outputs": [],
   "source": [
    "class bst(object):\n",
    "    def __init__(self):\n",
    "        self.root = None\n",
    "    \n",
    "    def set_root(self, value):\n",
    "        self.root = Node(value)\n",
    "    \n",
    "    def get_root(self):\n",
    "        return self.root\n",
    "        \n",
    "    def compare(self, node, new_node):\n",
    "        if node.get_value() == new_node.get_value():\n",
    "            return 0\n",
    "        elif node.get_value() > new_node.get_value():\n",
    "            return -1\n",
    "        elif node.get_value() < new_node.get_value():\n",
    "            return 1\n",
    "        \n",
    "    def insert_with_loop(self, new_value):\n",
    "        new_node = Node(new_value)\n",
    "        root = self.get_root()\n",
    "        if root == None:\n",
    "            self.root = new_node\n",
    "            return\n",
    "            \n",
    "        while True:\n",
    "            comparison = self.compare(root, new_node)\n",
    "            \n",
    "            if comparison == 0:\n",
    "                root.set_value(new_value)\n",
    "                break\n",
    "            elif comparison == -1:\n",
    "                if root.has_left():\n",
    "                    root = root.get_left()\n",
    "                else:\n",
    "                    root.set_left(new_node)\n",
    "                    break\n",
    "            elif comparison == 1:\n",
    "                if root.has_right():\n",
    "                    root = root.get_right()\n",
    "                else:\n",
    "                    root.set_right(new_node)\n",
    "                    break\n",
    "    \n",
    "    def insert_with_recursion(self, new_value):\n",
    "        new_node = Node(new_value)\n",
    "        root = self.get_root()\n",
    "        if root == None:\n",
    "            self.root = new_node\n",
    "            return\n",
    "        \n",
    "        self.insert_recursively(root, new_node)\n",
    "        \n",
    "    def insert_recursively(self, root, new_node):\n",
    "        comparison = self.compare(root, new_node)\n",
    "        \n",
    "        if comparison == 0:\n",
    "            root.set_value(new_node.get_value())\n",
    "        elif comparison == -1:\n",
    "            if root.has_left():\n",
    "                insert_recursively(node.get_left(), new_node)\n",
    "            else:\n",
    "                root.set_left(new_node)\n",
    "        elif comparison == 1:\n",
    "            if root.has_right():\n",
    "                insert_recursively(node.get_right(), new_node)\n",
    "            else:\n",
    "                root.set_right(new_node)               \n",
    "                    \n",
    "    def search(self,value):\n",
    "        root = self.get_root()\n",
    "        s_node = Node(value)\n",
    "        while(True):\n",
    "            comparison = self.compare(root ,s_node)\n",
    "            if comparison == 0:\n",
    "                return True\n",
    "            elif comparison == -1:\n",
    "                if node.has_left():\n",
    "                    root = node.get_left()\n",
    "                else:\n",
    "                    return False\n",
    "            else:\n",
    "                if node.has_right():\n",
    "                    node = node.get_right()\n",
    "                else:\n",
    "                    return False"
   ]
  },
  {
   "cell_type": "code",
   "execution_count": 28,
   "metadata": {},
   "outputs": [
    {
     "name": "stdout",
     "output_type": "stream",
     "text": [
      "5\n",
      "4\n",
      "2\n",
      "6\n"
     ]
    }
   ],
   "source": [
    "tree = bst()\n",
    "tree.insert_with_recursion(5)\n",
    "tree.insert_with_loop(6)\n",
    "tree.insert_with_recursion(4)\n",
    "tree.insert_with_loop(2)\n",
    "tree.insert_with_loop(7)\n",
    "tree.insert_with_loop(10)\n",
    "tree.insert_with_loop(8)\n",
    "tree.insert_with_loop(11)\n",
    "\n",
    "# Check if it made it right\n",
    "\n",
    "print(tree.root.value)\n",
    "print(tree.get_root().get_left().value)\n",
    "print(tree.get_root().get_left().get_left().value)\n",
    "print(tree.get_root().get_right().value)"
   ]
  },
  {
   "cell_type": "markdown",
   "metadata": {},
   "source": [
    "## Diameter of a binary tree"
   ]
  },
  {
   "cell_type": "code",
   "execution_count": 29,
   "metadata": {},
   "outputs": [],
   "source": [
    "def recursive_diameter(node):\n",
    "    \n",
    "    if node == None:\n",
    "        return 0, 0\n",
    "    \n",
    "    height_left, diameter_left = recursive_diameter(node.left)\n",
    "    height_right, diameter_right = recursive_diameter(node.right)\n",
    "    \n",
    "    height_this_branch = max(height_left, height_right) + 1\n",
    "    diameter_this_branch = height_left + height_right\n",
    "    diameter_from_below = max(diameter_left, diameter_right)\n",
    "    \n",
    "    final_diameter = max(diameter_this_branch, height_this_branch, diameter_from_below)\n",
    "    return height_this_branch, final_diameter\n",
    "\n",
    "def diameter(bst):\n",
    "    root = bst.get_root()\n",
    "    diameter = recursive_diameter(root)[1]\n",
    "    return diameter"
   ]
  },
  {
   "cell_type": "code",
   "execution_count": 30,
   "metadata": {},
   "outputs": [
    {
     "data": {
      "text/plain": [
       "6"
      ]
     },
     "execution_count": 30,
     "metadata": {},
     "output_type": "execute_result"
    }
   ],
   "source": [
    "diameter(tree)"
   ]
  },
  {
   "cell_type": "markdown",
   "metadata": {},
   "source": [
    "## Return in the form of a list the path from the root to a selected node"
   ]
  },
  {
   "cell_type": "code",
   "execution_count": 31,
   "metadata": {},
   "outputs": [],
   "source": [
    "def path(bst, value):\n",
    "    \n",
    "    node = Node(value)\n",
    "    root = bst.get_root()\n",
    "    lista = []\n",
    "    lista.append(root.value)\n",
    "    \n",
    "    while True:\n",
    "        comparison = tree.compare(root, node)\n",
    "        \n",
    "        if comparison == 0:\n",
    "            break\n",
    "        elif comparison == -1:\n",
    "            if root.has_left() == True:\n",
    "                root = root.get_left()\n",
    "                lista.append(root.value)\n",
    "            else:\n",
    "                print('The value is not present!')\n",
    "                return None\n",
    "        elif comparison == 1:\n",
    "            if root.has_right() == True:\n",
    "                root = root.get_right()\n",
    "                lista.append(root.value)\n",
    "            else:\n",
    "                print('The value is not present!')\n",
    "                return None\n",
    "            \n",
    "    return lista"
   ]
  },
  {
   "cell_type": "code",
   "execution_count": 34,
   "metadata": {},
   "outputs": [
    {
     "name": "stdout",
     "output_type": "stream",
     "text": [
      "[5, 4, 2]\n",
      "[5, 6, 7, 10]\n",
      "[5, 6, 7, 10, 8]\n",
      "[5, 6, 7, 10, 11]\n"
     ]
    }
   ],
   "source": [
    "print(path(tree, 2))\n",
    "print(path(tree, 10))\n",
    "print(path(tree, 8))\n",
    "print(path(tree, 11))"
   ]
  },
  {
   "cell_type": "code",
   "execution_count": null,
   "metadata": {},
   "outputs": [],
   "source": []
  }
 ],
 "metadata": {
  "kernelspec": {
   "display_name": "Python 3",
   "language": "python",
   "name": "python3"
  },
  "language_info": {
   "codemirror_mode": {
    "name": "ipython",
    "version": 3
   },
   "file_extension": ".py",
   "mimetype": "text/x-python",
   "name": "python",
   "nbconvert_exporter": "python",
   "pygments_lexer": "ipython3",
   "version": "3.8.5"
  }
 },
 "nbformat": 4,
 "nbformat_minor": 4
}
