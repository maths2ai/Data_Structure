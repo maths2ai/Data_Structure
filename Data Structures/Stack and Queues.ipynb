{
 "cells": [
  {
   "cell_type": "markdown",
   "metadata": {},
   "source": [
    "## Problem 1:\n",
    "\n",
    "Balanced Parenthesis. Check if in a mathematical expression the parenthesis are balanced."
   ]
  },
  {
   "cell_type": "code",
   "execution_count": 3,
   "metadata": {},
   "outputs": [],
   "source": [
    "def balanced_parenthesis(equation):\n",
    "    stack = []\n",
    "    \n",
    "    for elem in equation:\n",
    "        if elem == '(':\n",
    "            stack.append(elem)\n",
    "        elif elem == ')':\n",
    "            if len(stack) == 0:\n",
    "                return False\n",
    "            stack.pop()\n",
    "    return (len(stack) == 0)"
   ]
  },
  {
   "cell_type": "code",
   "execution_count": 4,
   "metadata": {},
   "outputs": [
    {
     "name": "stdout",
     "output_type": "stream",
     "text": [
      "True\n",
      "False\n"
     ]
    }
   ],
   "source": [
    "print(balanced_parenthesis('((3^2 + 8)*(5/2))/(2+6)'))\n",
    "print(balanced_parenthesis('((3^2 + 8)*(5/2))/(2+6))'))"
   ]
  },
  {
   "cell_type": "markdown",
   "metadata": {},
   "source": [
    "## Problem 2:\n",
    "\n",
    "Reversed Polish Notation computation"
   ]
  },
  {
   "cell_type": "code",
   "execution_count": 5,
   "metadata": {},
   "outputs": [],
   "source": [
    "def reversed_polish_notation(lista):\n",
    "    \n",
    "    stack = []\n",
    "    \n",
    "    for element in lista:\n",
    "        if element == '+':\n",
    "            second = stack.pop()\n",
    "            first = stack.pop()\n",
    "            \n",
    "            third = first + second\n",
    "            stack.append(third)\n",
    "        elif element == '-':\n",
    "            second = stack.pop()\n",
    "            first = stack.pop()\n",
    "            \n",
    "            third = first - second\n",
    "            stack.append(third)\n",
    "        elif element == '*':\n",
    "            second = stack.pop()\n",
    "            first = stack.pop()\n",
    "            \n",
    "            third = first * second\n",
    "            stack.append(third)\n",
    "        elif element == '/':\n",
    "            second = stack.pop()\n",
    "            first = stack.pop()\n",
    "            \n",
    "            third = int(first/second)\n",
    "            stack.append(third)\n",
    "        else:\n",
    "            stack.append(int(element))\n",
    "    \n",
    "    return stack.pop()"
   ]
  },
  {
   "cell_type": "code",
   "execution_count": 6,
   "metadata": {},
   "outputs": [
    {
     "name": "stdout",
     "output_type": "stream",
     "text": [
      "16\n",
      "6\n",
      "22\n"
     ]
    }
   ],
   "source": [
    "arr = [\"3\", \"1\", \"+\", \"4\", \"*\"]\n",
    "print(reversed_polish_notation(arr))\n",
    "arr = [\"4\", \"13\", \"5\", \"/\", \"+\"]\n",
    "print(reversed_polish_notation(arr))\n",
    "arr = [\"10\", \"6\", \"9\", \"3\", \"+\", \"-11\", \"*\", \"/\", \"*\", \"17\", \"+\", \"5\", \"+\"]\n",
    "print(reversed_polish_notation(arr))"
   ]
  },
  {
   "cell_type": "markdown",
   "metadata": {},
   "source": [
    "## Problem 3:\n",
    "\n",
    "Reverse a Stack in Place"
   ]
  },
  {
   "cell_type": "code",
   "execution_count": 13,
   "metadata": {},
   "outputs": [],
   "source": [
    "# definining the stack class\n",
    "\n",
    "class Node(object):\n",
    "    def __init__(self, value):\n",
    "        self.value = value\n",
    "        self.next = None\n",
    "        \n",
    "class Stack(object):\n",
    "    def __init__(self, node):\n",
    "        self.top = node\n",
    "        self.num_elements = 1\n",
    "    \n",
    "    def push(self, node):\n",
    "        node.next = self.top\n",
    "        self.top = node\n",
    "        self.num_elements += 1\n",
    "    \n",
    "    def pop(self):\n",
    "        if self.num_elements == 0:\n",
    "            return None\n",
    "        \n",
    "        temp = self.top\n",
    "        self.top = self.top.next\n",
    "        self.num_elements -= 1\n",
    "        \n",
    "        return temp\n",
    "    \n",
    "    def size(self):\n",
    "        return self.num_elements    "
   ]
  },
  {
   "cell_type": "code",
   "execution_count": 24,
   "metadata": {},
   "outputs": [],
   "source": [
    "def reverse_stack_(stack):\n",
    "    previous = None\n",
    "    size = stack.size()\n",
    "    current = stack.pop()\n",
    "    \n",
    "    while True:\n",
    "        temp = stack.pop()\n",
    "        current.next = previous\n",
    "        previous = current\n",
    "        current = temp\n",
    "        if temp == None:\n",
    "            break\n",
    "            \n",
    "    stack.top = previous\n",
    "    stack.num_elements = size\n",
    "    return stack"
   ]
  },
  {
   "cell_type": "code",
   "execution_count": 25,
   "metadata": {},
   "outputs": [
    {
     "name": "stdout",
     "output_type": "stream",
     "text": [
      "4\n",
      "3\n",
      "2\n",
      "1\n"
     ]
    }
   ],
   "source": [
    "first = Node(4)\n",
    "second = Node(3)\n",
    "third = Node(2)\n",
    "fourth = Node(1)\n",
    "\n",
    "stack = Stack(first)\n",
    "stack.push(second)\n",
    "stack.push(third)\n",
    "stack.push(fourth)\n",
    "\n",
    "\n",
    "r_stack = reverse_stack_(stack)\n",
    "print(r_stack.pop().value)\n",
    "print(r_stack.pop().value)\n",
    "print(r_stack.pop().value)\n",
    "print(r_stack.pop().value)"
   ]
  },
  {
   "cell_type": "markdown",
   "metadata": {},
   "source": [
    "## Problem 4:\n",
    "\n",
    "Reverse a queue"
   ]
  }
 ],
 "metadata": {
  "kernelspec": {
   "display_name": "Python 3",
   "language": "python",
   "name": "python3"
  },
  "language_info": {
   "codemirror_mode": {
    "name": "ipython",
    "version": 3
   },
   "file_extension": ".py",
   "mimetype": "text/x-python",
   "name": "python",
   "nbconvert_exporter": "python",
   "pygments_lexer": "ipython3",
   "version": "3.8.5"
  }
 },
 "nbformat": 4,
 "nbformat_minor": 4
}
