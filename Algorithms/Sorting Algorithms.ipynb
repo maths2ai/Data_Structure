{
 "cells": [
  {
   "cell_type": "markdown",
   "metadata": {},
   "source": [
    "## Bubble Sort"
   ]
  },
  {
   "cell_type": "code",
   "execution_count": 10,
   "metadata": {},
   "outputs": [],
   "source": [
    "def bubble_sort(lista):\n",
    "    lenght = len(lista)\n",
    "    \n",
    "    while lenght != 0:\n",
    "        pos = 0\n",
    "        while pos<lenght-1:\n",
    "            if lista[pos] > lista[pos + 1]:\n",
    "                temp = lista[pos]\n",
    "                lista[pos] = lista[pos + 1]\n",
    "                lista[pos + 1] = temp\n",
    "            pos = pos + 1\n",
    "        lenght = lenght - 1\n",
    "            \n",
    "    \n",
    "    return lista"
   ]
  },
  {
   "cell_type": "code",
   "execution_count": 11,
   "metadata": {},
   "outputs": [
    {
     "data": {
      "text/plain": [
       "[3, 9, 12, 13, 13, 16, 19, 22, 25, 45, 46, 46, 48, 49, 49, 55, 55, 56, 56]"
      ]
     },
     "execution_count": 11,
     "metadata": {},
     "output_type": "execute_result"
    }
   ],
   "source": [
    "arr = [16,49,3,12,56,49,55,22,13,46,19,55,46,13,25,56,9,48,45]\n",
    "bubble_sort(arr)"
   ]
  },
  {
   "cell_type": "markdown",
   "metadata": {},
   "source": [
    "## Problem 1\n",
    "Orther times in decreasing order"
   ]
  },
  {
   "cell_type": "code",
   "execution_count": 43,
   "metadata": {},
   "outputs": [],
   "source": [
    "def bubble_sort_2(l):\n",
    "    lenght=len(l)\n",
    "    \n",
    "    while (lenght)>1:\n",
    "        for i in range(lenght-1):\n",
    "            if l[i][0]<l[i+1][0]:\n",
    "                temp=l[i]\n",
    "                l[i]=l[i+1]\n",
    "                l[i+1]=temp\n",
    "            elif l[i][0]==l[i+1][0]:\n",
    "                if l[i][1]<l[i+1][1]:\n",
    "                    temp=l[i]\n",
    "                    l[i]=l[i+1]\n",
    "                    l[i+1]=temp\n",
    "        lenght=lenght-1\n",
    "    return l"
   ]
  },
  {
   "cell_type": "code",
   "execution_count": 45,
   "metadata": {},
   "outputs": [
    {
     "data": {
      "text/plain": [
       "[(24, 23), (24, 13), (24, 3), (23, 20), (22, 5), (21, 58), (21, 55)]"
      ]
     },
     "execution_count": 45,
     "metadata": {},
     "output_type": "execute_result"
    }
   ],
   "source": [
    "arr = [(24,13), (21,55), (23,20), (22,5), (24,23), (21,58), (24,3)]\n",
    "bubble_sort_2(arr)"
   ]
  },
  {
   "cell_type": "markdown",
   "metadata": {},
   "source": [
    "## Mergesort"
   ]
  },
  {
   "cell_type": "code",
   "execution_count": 48,
   "metadata": {},
   "outputs": [],
   "source": [
    "def mergesort(array):\n",
    "    \n",
    "    if len(array) == 1:\n",
    "        return array\n",
    "    \n",
    "    len_to_divide = len(array)//2\n",
    "    first_half = array[:len_to_divide]\n",
    "    second_half = array[len_to_divide:]\n",
    "    \n",
    "    first_part_ordered = mergesort(first_half)\n",
    "    second_part_ordered = mergesort(second_half)\n",
    "    \n",
    "    # Fusion section\n",
    "    \n",
    "    first_index = 0\n",
    "    second_index = 0\n",
    "    merged_list = []\n",
    "    \n",
    "    while (first_index<len(first_part_ordered)) and (second_index<len(second_part_ordered)):\n",
    "        if first_part_ordered[first_index] < second_part_ordered[second_index]:\n",
    "            merged_list.append(first_part_ordered[first_index])\n",
    "            first_index += 1\n",
    "        else:\n",
    "            merged_list.append(second_part_ordered[second_index])\n",
    "            second_index += 1\n",
    "        \n",
    "    if first_index == len(first_part_ordered):\n",
    "        merged_list += second_part_ordered[second_index:]\n",
    "    elif second_index == len(second_part_ordered):\n",
    "        merged_list += first_part_ordered[first_index:]\n",
    "        \n",
    "    return merged_list  "
   ]
  },
  {
   "cell_type": "code",
   "execution_count": 50,
   "metadata": {},
   "outputs": [
    {
     "name": "stdout",
     "output_type": "stream",
     "text": [
      "[0, 1, 2, 3, 7, 8, 10]\n",
      "[97, 98, 99]\n",
      "[0, 1]\n"
     ]
    }
   ],
   "source": [
    "arr = [8, 3, 1, 7, 0, 10, 2]\n",
    "print(mergesort(arr))\n",
    "arr = [97, 98, 99]\n",
    "print(mergesort(arr))\n",
    "arr = [1, 0]\n",
    "print(mergesort(arr))"
   ]
  },
  {
   "cell_type": "markdown",
   "metadata": {},
   "source": [
    "## Problem 2\n",
    "\n",
    "Given an array arr[0 ... n-1] of n distinct positive integers, for indices i and j, if i < j and arr[i] > arr[j] then the pair (i, j) is called an inversion of arr."
   ]
  },
  {
   "cell_type": "code",
   "execution_count": 64,
   "metadata": {},
   "outputs": [],
   "source": [
    "def mergesort_inv(array ):\n",
    "    \n",
    "    if len(array) == 1:\n",
    "        tot_n_inversions = 0\n",
    "        return array, tot_n_inversions \n",
    "    \n",
    "    len_to_divide = len(array)//2\n",
    "    first_half = array[:len_to_divide]\n",
    "    second_half = array[len_to_divide:]\n",
    "    \n",
    "    first_part_ordered, n_inversions_first = mergesort_inv(first_half)\n",
    "    second_part_ordered, n_inversions_second = mergesort_inv(second_half)\n",
    "    \n",
    "    tot_n_inversions = n_inversions_first + n_inversions_second\n",
    "    \n",
    "    # Fusion section\n",
    "    \n",
    "    first_index = 0\n",
    "    second_index = 0\n",
    "    merged_list = []\n",
    "    \n",
    "    while (first_index<len(first_part_ordered)) and (second_index<len(second_part_ordered)):\n",
    "        if first_part_ordered[first_index] <= second_part_ordered[second_index]:\n",
    "            merged_list.append(first_part_ordered[first_index])\n",
    "            first_index += 1\n",
    "        else:\n",
    "            merged_list.append(second_part_ordered[second_index])\n",
    "            tot_n_inversions += len(first_part_ordered) - first_index\n",
    "            second_index += 1\n",
    "        \n",
    "    if first_index == len(first_part_ordered):\n",
    "        merged_list += second_part_ordered[second_index:]\n",
    "    elif second_index == len(second_part_ordered):\n",
    "        merged_list += first_part_ordered[first_index:]\n",
    "    return merged_list, tot_n_inversions"
   ]
  },
  {
   "cell_type": "code",
   "execution_count": 65,
   "metadata": {},
   "outputs": [
    {
     "name": "stdout",
     "output_type": "stream",
     "text": [
      "4\n",
      "26\n",
      "2\n"
     ]
    }
   ],
   "source": [
    "arr = [2, 5, 1, 3, 4]\n",
    "lista, inversions = mergesort_inv(arr)\n",
    "print(inversions)\n",
    "arr = [54, 99, 49, 22, 37, 18, 22, 90, 86, 33]\n",
    "lista, inversions = mergesort_inv(arr)\n",
    "print(inversions)\n",
    "arr = [1, 2, 4, 2, 3, 11, 22, 99, 108, 389]\n",
    "lista, inversions = mergesort_inv(arr)\n",
    "print(inversions)"
   ]
  },
  {
   "cell_type": "markdown",
   "metadata": {},
   "source": [
    "## Quicksort"
   ]
  },
  {
   "cell_type": "code",
   "execution_count": 99,
   "metadata": {},
   "outputs": [],
   "source": [
    "def quicksort(arr):\n",
    "    moving_index = len(arr) - 1\n",
    "    initial_index = 0\n",
    "    \n",
    "    while True:\n",
    "        \n",
    "        if moving_index == initial_index + 1:\n",
    "            if arr[moving_index] < arr[initial_index]:\n",
    "                temp = arr[moving_index]\n",
    "                arr[moving_index] = arr[initial_index]\n",
    "                arr[initial_index]= temp\n",
    "                moving_index = initial_index\n",
    "            break\n",
    "        if arr[moving_index]>=arr[initial_index]:\n",
    "            initial_index += 1\n",
    "        elif arr[moving_index]<arr[initial_index]:\n",
    "            temp = arr[moving_index]\n",
    "            temp_2 = arr[moving_index - 1]\n",
    "            arr[moving_index] = arr[initial_index]\n",
    "            arr[initial_index]  = temp_2\n",
    "            arr[moving_index - 1] = temp\n",
    "            moving_index -= 1\n",
    "    if 0<moving_index -1:\n",
    "        quicksort_supp(arr, 0, moving_index - 1)\n",
    "    if moving_index + 1 < len(arr) -1:\n",
    "        quicksort_supp(arr, moving_index + 1, len(arr) - 1)\n",
    "    \n",
    "    return arr\n",
    "\n",
    "def quicksort_supp(arr, first, last):\n",
    "    \n",
    "    moving_index = last\n",
    "    initial_index = first\n",
    "    \n",
    "    while True:\n",
    "        \n",
    "        if moving_index == initial_index + 1:\n",
    "            if arr[moving_index] < arr[initial_index]:\n",
    "                temp = arr[moving_index]\n",
    "                arr[moving_index] = arr[initial_index]\n",
    "                arr[initial_index]= temp\n",
    "                moving_index = initial_index\n",
    "            break\n",
    "        if arr[moving_index]>=arr[initial_index]:\n",
    "            initial_index += 1\n",
    "        elif arr[moving_index]<arr[initial_index]:\n",
    "            temp = arr[moving_index]\n",
    "            temp_2 = arr[moving_index - 1]\n",
    "            arr[moving_index] = arr[initial_index]\n",
    "            arr[initial_index]  = temp_2\n",
    "            arr[moving_index - 1] = temp\n",
    "    \n",
    "    if first < moving_index -1:\n",
    "        quicksort_supp(arr, first, moving_index - 1)\n",
    "    if moving_index + 1 < last:\n",
    "        quicksort_supp(arr, moving_index + 1, last)"
   ]
  },
  {
   "cell_type": "code",
   "execution_count": 102,
   "metadata": {},
   "outputs": [
    {
     "name": "stdout",
     "output_type": "stream",
     "text": [
      "[0, 1, 2, 3, 7, 8, 10]\n",
      "[0, 1]\n",
      "[96, 97, 98]\n"
     ]
    }
   ],
   "source": [
    "arr = [8, 3, 1, 7, 0, 10, 2]\n",
    "print(quicksort(arr))\n",
    "arr = [1, 0]\n",
    "print(quicksort(arr))\n",
    "arr = [96, 97, 98]\n",
    "print(quicksort(arr))"
   ]
  },
  {
   "cell_type": "code",
   "execution_count": null,
   "metadata": {},
   "outputs": [],
   "source": []
  }
 ],
 "metadata": {
  "kernelspec": {
   "display_name": "Python 3",
   "language": "python",
   "name": "python3"
  },
  "language_info": {
   "codemirror_mode": {
    "name": "ipython",
    "version": 3
   },
   "file_extension": ".py",
   "mimetype": "text/x-python",
   "name": "python",
   "nbconvert_exporter": "python",
   "pygments_lexer": "ipython3",
   "version": "3.8.5"
  }
 },
 "nbformat": 4,
 "nbformat_minor": 4
}
