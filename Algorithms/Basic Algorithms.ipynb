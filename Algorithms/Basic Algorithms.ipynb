{
 "cells": [
  {
   "cell_type": "markdown",
   "metadata": {},
   "source": [
    "## Binary Search"
   ]
  },
  {
   "cell_type": "code",
   "execution_count": 1,
   "metadata": {},
   "outputs": [],
   "source": [
    "def binary_search_iteration(array, target):\n",
    "    lenght = len(array)\n",
    "    first = 0\n",
    "    last = lenght - 1\n",
    "    \n",
    "    while True:\n",
    "        if first > last:\n",
    "            print('Element not found')\n",
    "            return False\n",
    "        midpoint = (first + last)//2\n",
    "        \n",
    "        if array[midpoint] == target:\n",
    "            print('Found at index ', midpoint)\n",
    "            return True\n",
    "        elif array[midpoint] < target:\n",
    "            first = midpoint + 1\n",
    "        else:\n",
    "            last = midpoint - 1"
   ]
  },
  {
   "cell_type": "code",
   "execution_count": 2,
   "metadata": {},
   "outputs": [
    {
     "name": "stdout",
     "output_type": "stream",
     "text": [
      "Found at index  3\n",
      "True\n",
      "Element not found\n",
      "False\n"
     ]
    }
   ],
   "source": [
    "array = [0, 1, 2, 3, 4, 5, 6, 7, 8, 9, 10]\n",
    "target = 3\n",
    "print(binary_search_iteration(array, target))\n",
    "array = [0, 1, 2, 3, 4, 5, 6, 7, 8, 9, 10]\n",
    "target = 15\n",
    "print(binary_search_iteration(array, target))"
   ]
  },
  {
   "cell_type": "markdown",
   "metadata": {},
   "source": [
    "## Binary Search Recursive"
   ]
  },
  {
   "cell_type": "code",
   "execution_count": 3,
   "metadata": {},
   "outputs": [],
   "source": [
    "def binary_search_recursive_soln(array, target, start_index, end_index):\n",
    "    if end_index < start_index:\n",
    "        print('Element not found')\n",
    "        return False\n",
    "    \n",
    "    mid_index = (start_index + end_index)//2\n",
    "    \n",
    "    if array[mid_index] == target:\n",
    "        print('Found at index ', mid_index)\n",
    "        return True\n",
    "    elif array[mid_index] < target:\n",
    "        return binary_search_recursive_soln(array, target, mid_index + 1, end_index)\n",
    "    else:\n",
    "        return binary_search_recursive_soln(array, target, start_index, mid_index - 1)"
   ]
  },
  {
   "cell_type": "code",
   "execution_count": 4,
   "metadata": {},
   "outputs": [
    {
     "name": "stdout",
     "output_type": "stream",
     "text": [
      "Found at index  3\n",
      "True\n",
      "Element not found\n",
      "False\n"
     ]
    }
   ],
   "source": [
    "array = [0, 1, 2, 3, 4, 5, 6, 7, 8, 9, 10]\n",
    "target = 3\n",
    "print(binary_search_recursive_soln(array, target, 0, len(array) - 1))\n",
    "array = [0, 1, 2, 3, 4, 5, 6, 7, 8, 9, 10]\n",
    "target = 15\n",
    "print(binary_search_recursive_soln(array, target, 0, len(array) - 1))"
   ]
  },
  {
   "cell_type": "markdown",
   "metadata": {},
   "source": [
    "## Problem 1\n",
    "\n",
    "Assuming one has an array with multiple values like a =[1, 1, 2, 2, 2, 6, 10, 11], given a target find the first index where the target appears. Referring to the previous array if the target is 2 the index would be 2 as well."
   ]
  },
  {
   "cell_type": "code",
   "execution_count": 13,
   "metadata": {},
   "outputs": [],
   "source": [
    "def find_first_index(array, target):\n",
    "    lowest_index = False\n",
    "    \n",
    "    lenght = len(array)\n",
    "    first = 0\n",
    "    last = lenght - 1\n",
    "    \n",
    "    while True:\n",
    "        if first > last:\n",
    "            if lowest_index == False:\n",
    "                print('Element not found')\n",
    "                break\n",
    "            else:\n",
    "                print('The smallest index where the element is present is ', lowest_index)\n",
    "                break\n",
    "        \n",
    "        midpoint = (first + last)//2\n",
    "        \n",
    "        if array[midpoint] == target:\n",
    "            lowest_index = midpoint\n",
    "            last = midpoint - 1\n",
    "        elif array[midpoint] < target:\n",
    "            first = midpoint + 1\n",
    "        else:\n",
    "            last = midpoint - 1\n",
    "    \n",
    "    return lowest_index"
   ]
  },
  {
   "cell_type": "code",
   "execution_count": 17,
   "metadata": {},
   "outputs": [
    {
     "name": "stdout",
     "output_type": "stream",
     "text": [
      "The smallest index where the element is present is  3\n",
      "3\n",
      "Element not found\n",
      "False\n",
      "/n\n",
      "The smallest index where the element is present is  2\n",
      "2\n",
      "The smallest index where the element is present is  6\n",
      "6\n"
     ]
    }
   ],
   "source": [
    "multiple = [1, 3, 5, 7, 7, 7, 8, 11, 12, 13, 14, 15]\n",
    "print(find_first_index(multiple, 7))\n",
    "print(find_first_index(multiple, 6))\n",
    "print('/n')\n",
    "multiple = [1, 3, 5, 5, 5, 5, 6, 6, 6, 7, 7, 7, 8, 11, 12, 13, 14, 15]\n",
    "print(find_first_index(multiple, 5))\n",
    "print(find_first_index(multiple, 6))"
   ]
  },
  {
   "cell_type": "markdown",
   "metadata": {},
   "source": [
    "## Problem 2\n",
    "\n",
    "Similarly to the above but for both the biggest and the lowest index of the target element"
   ]
  },
  {
   "cell_type": "code",
   "execution_count": 18,
   "metadata": {},
   "outputs": [],
   "source": [
    "def find_first_last_index(array, target):\n",
    "    lowest_index = False\n",
    "    highest_index = False\n",
    "    lenght = len(array)\n",
    "    first = 0\n",
    "    last = lenght - 1\n",
    "    \n",
    "    while True:\n",
    "        if first > last:\n",
    "            if lowest_index == False:\n",
    "                print('Element not found')\n",
    "                return lowest_index\n",
    "            else:\n",
    "                print('The smallest index where the element is present is ', lowest_index)\n",
    "                break\n",
    "        \n",
    "        midpoint = (first + last)//2\n",
    "        \n",
    "        if array[midpoint] == target:\n",
    "            if lowest_index == False:\n",
    "                highest_index = midpoint\n",
    "            lowest_index = midpoint\n",
    "            last = midpoint - 1\n",
    "        elif array[midpoint] < target:\n",
    "            first = midpoint + 1\n",
    "        else:\n",
    "            last = midpoint - 1\n",
    "    \n",
    "    first = highest_index + 1\n",
    "    last = lenght - 1\n",
    "    \n",
    "    while True:\n",
    "        if first > last:\n",
    "            print('The highest element where the index is present is ', highest_index)\n",
    "            break\n",
    "        \n",
    "        midpoint = (first + last)//2\n",
    "        \n",
    "        if array[midpoint] == target:\n",
    "            highest_index = midpoint\n",
    "            first = midpoint + 1\n",
    "        elif array[midpoint] < target:\n",
    "            first = midpoint + 1\n",
    "        else:\n",
    "            last = midpoint - 1\n",
    "    \n",
    "    return lowest_index, highest_index"
   ]
  },
  {
   "cell_type": "code",
   "execution_count": 23,
   "metadata": {},
   "outputs": [
    {
     "name": "stdout",
     "output_type": "stream",
     "text": [
      "Element not found\n",
      "0\n",
      "The smallest index where the element is present is  3\n",
      "The highest element where the index is present is  6\n",
      "(3, 6)\n",
      "The smallest index where the element is present is  5\n",
      "The highest element where the index is present is  5\n",
      "(5, 5)\n",
      "Element not found\n",
      "False\n"
     ]
    }
   ],
   "source": [
    "input_list = [1]\n",
    "print(find_first_last_index(input_list, 1))\n",
    "input_list = [0, 1, 2, 3, 3, 3, 3, 4, 5, 6]\n",
    "print(find_first_last_index(input_list, 3))\n",
    "input_list = [0, 1, 2, 3, 4, 5]\n",
    "print(find_first_last_index(input_list, 5))\n",
    "input_list = [0, 1, 2, 3, 4, 5]\n",
    "print(find_first_last_index(input_list, 6))"
   ]
  },
  {
   "cell_type": "code",
   "execution_count": null,
   "metadata": {},
   "outputs": [],
   "source": []
  }
 ],
 "metadata": {
  "kernelspec": {
   "display_name": "Python 3",
   "language": "python",
   "name": "python3"
  },
  "language_info": {
   "codemirror_mode": {
    "name": "ipython",
    "version": 3
   },
   "file_extension": ".py",
   "mimetype": "text/x-python",
   "name": "python",
   "nbconvert_exporter": "python",
   "pygments_lexer": "ipython3",
   "version": "3.8.5"
  }
 },
 "nbformat": 4,
 "nbformat_minor": 4
}
