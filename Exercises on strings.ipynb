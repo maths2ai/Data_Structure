{
 "cells": [
  {
   "cell_type": "markdown",
   "metadata": {},
   "source": [
    "## 1. Reverse a string using Python Functionality."
   ]
  },
  {
   "cell_type": "code",
   "execution_count": 8,
   "metadata": {},
   "outputs": [],
   "source": [
    "def string_reverser(out_string):\n",
    "    \n",
    "    new_string = \"\"\n",
    "    lenght = len(out_string)\n",
    "    \n",
    "    for i in range(lenght):\n",
    "        new_string += out_string[lenght -i -1]\n",
    "        \n",
    "    return new_string "
   ]
  },
  {
   "cell_type": "code",
   "execution_count": 9,
   "metadata": {},
   "outputs": [
    {
     "data": {
      "text/plain": [
       "'!noom eybdoog'"
      ]
     },
     "execution_count": 9,
     "metadata": {},
     "output_type": "execute_result"
    }
   ],
   "source": [
    "string_reverser('goodbye moon!')"
   ]
  },
  {
   "cell_type": "markdown",
   "metadata": {},
   "source": [
    "## 2. Anagram Checker. \n",
    "\n",
    "### Solution 1"
   ]
  },
  {
   "cell_type": "code",
   "execution_count": 19,
   "metadata": {},
   "outputs": [],
   "source": [
    "def anagram_checker(str_1, str_2):\n",
    "    \n",
    "    # Removing blanks\n",
    "    str_1 = str_1.replace(' ', '')\n",
    "    str_2 = str_2.replace(' ', '')\n",
    "    \n",
    "    # Lowering\n",
    "    str_1 = str_1.lower()\n",
    "    str_2 = str_2.lower()\n",
    "    \n",
    "    for letter_1 in str_1:\n",
    "        found = False\n",
    "        \n",
    "        for pos in range(len(str_2)):\n",
    "            \n",
    "            if str_2[pos] == letter_1:\n",
    "                found = True\n",
    "                str_2 = str_2[:pos]+str_2[pos+1:]\n",
    "                break\n",
    "                \n",
    "        if found == False:\n",
    "            return False\n",
    "        \n",
    "    return True          "
   ]
  },
  {
   "cell_type": "code",
   "execution_count": 20,
   "metadata": {},
   "outputs": [
    {
     "name": "stdout",
     "output_type": "stream",
     "text": [
      "True\n",
      "False\n",
      "True\n"
     ]
    }
   ],
   "source": [
    "print(anagram_checker('Dormitory','Dirty room'))\n",
    "print(anagram_checker('A gentleman','Elegant men'))\n",
    "print(anagram_checker('Slot machines', 'Cash lost in me'))"
   ]
  },
  {
   "cell_type": "markdown",
   "metadata": {},
   "source": [
    "### Solution 2 \n",
    "\n",
    "Using extra functionality of strings in python"
   ]
  },
  {
   "cell_type": "code",
   "execution_count": 23,
   "metadata": {},
   "outputs": [],
   "source": [
    "def anagram_checker(str_1, str_2):\n",
    "    \n",
    "    # Removing blanks\n",
    "    str_1 = str_1.replace(' ', '')\n",
    "    str_2 = str_2.replace(' ', '')\n",
    "    \n",
    "    # Lowering\n",
    "    str_1 = str_1.lower()\n",
    "    str_2 = str_2.lower()\n",
    "    \n",
    "    # Sorting the string\n",
    "    \n",
    "    str_1 = sorted(str_1)\n",
    "    str_2 = sorted(str_2)\n",
    "    \n",
    "    if str_1 == str_2:\n",
    "        return True\n",
    "    else:\n",
    "        return False"
   ]
  },
  {
   "cell_type": "code",
   "execution_count": 24,
   "metadata": {},
   "outputs": [
    {
     "name": "stdout",
     "output_type": "stream",
     "text": [
      "True\n",
      "False\n",
      "True\n"
     ]
    }
   ],
   "source": [
    "print(anagram_checker('Dormitory','Dirty room'))\n",
    "print(anagram_checker('A gentleman','Elegant men'))\n",
    "print(anagram_checker('Slot machines', 'Cash lost in me'))"
   ]
  },
  {
   "cell_type": "markdown",
   "metadata": {},
   "source": [
    "## 3. Reverse the word in a sentence while keeping the order of the words the same.\n",
    "\n",
    "### Solution 1"
   ]
  },
  {
   "cell_type": "code",
   "execution_count": 29,
   "metadata": {},
   "outputs": [],
   "source": [
    "def word_flipper(string):\n",
    "    words = string.split()\n",
    "    new_sentence = ''\n",
    "    \n",
    "    for word in words:\n",
    "        reversed_word = string_reverser(word)\n",
    "        new_sentence = new_sentence + reversed_word + ' '\n",
    "    \n",
    "    new_sentence = new_sentence[:-1]\n",
    "    \n",
    "    return new_sentence"
   ]
  },
  {
   "cell_type": "code",
   "execution_count": 31,
   "metadata": {},
   "outputs": [
    {
     "name": "stdout",
     "output_type": "stream",
     "text": [
      "This is an example\n",
      "This is one small step for ...\n"
     ]
    }
   ],
   "source": [
    "print(word_flipper('sihT si na elpmaxe'))\n",
    "print(word_flipper('sihT si eno llams pets rof ...')) "
   ]
  },
  {
   "cell_type": "markdown",
   "metadata": {},
   "source": [
    "### Solution 2\n",
    "\n",
    "Using extra Python functionalities"
   ]
  },
  {
   "cell_type": "code",
   "execution_count": 35,
   "metadata": {},
   "outputs": [],
   "source": [
    "def word_flipper(string):\n",
    "    words = string.split()\n",
    "    new_sentence = ''\n",
    "    \n",
    "    for word in words:\n",
    "        reversed_word = word[::-1]\n",
    "        new_sentence = new_sentence + reversed_word + ' '\n",
    "        \n",
    "    new_sentence = new_sentence[:-1]\n",
    "    \n",
    "    return new_sentence"
   ]
  },
  {
   "cell_type": "code",
   "execution_count": 36,
   "metadata": {},
   "outputs": [
    {
     "name": "stdout",
     "output_type": "stream",
     "text": [
      "This is an example\n",
      "This is one small step for ...\n"
     ]
    }
   ],
   "source": [
    "print(word_flipper('sihT si na elpmaxe'))\n",
    "print(word_flipper('sihT si eno llams pets rof ...')) "
   ]
  },
  {
   "cell_type": "markdown",
   "metadata": {},
   "source": [
    "## Humming distance of two strings"
   ]
  },
  {
   "cell_type": "code",
   "execution_count": 7,
   "metadata": {},
   "outputs": [],
   "source": [
    "def hamming_distance(str_1, str_2):\n",
    "    if len(str_1) == len(str_2):\n",
    "        distance = 0\n",
    "        \n",
    "        for pos in range(len(str_1)):\n",
    "            if str_1[pos] != str_2[pos]:\n",
    "                distance += 1\n",
    "        return distance\n",
    "    return None"
   ]
  },
  {
   "cell_type": "code",
   "execution_count": 9,
   "metadata": {},
   "outputs": [
    {
     "name": "stdout",
     "output_type": "stream",
     "text": [
      "10\n",
      "1\n",
      "None\n"
     ]
    }
   ],
   "source": [
    "print(hamming_distance('ACTTGACCGGG','GATCCGGTACA'))\n",
    "print(hamming_distance('shove','stove'))\n",
    "print(hamming_distance('Slot machines', 'Cash lost in me'))"
   ]
  }
 ],
 "metadata": {
  "kernelspec": {
   "display_name": "Python 3",
   "language": "python",
   "name": "python3"
  },
  "language_info": {
   "codemirror_mode": {
    "name": "ipython",
    "version": 3
   },
   "file_extension": ".py",
   "mimetype": "text/x-python",
   "name": "python",
   "nbconvert_exporter": "python",
   "pygments_lexer": "ipython3",
   "version": "3.8.5"
  }
 },
 "nbformat": 4,
 "nbformat_minor": 4
}
